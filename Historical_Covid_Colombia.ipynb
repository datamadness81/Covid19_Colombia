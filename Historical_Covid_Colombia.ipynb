{
 "metadata": {
  "language_info": {
   "codemirror_mode": {
    "name": "ipython",
    "version": 3
   },
   "file_extension": ".py",
   "mimetype": "text/x-python",
   "name": "python",
   "nbconvert_exporter": "python",
   "pygments_lexer": "ipython3",
   "version": "3.7.7-final"
  },
  "orig_nbformat": 2,
  "kernelspec": {
   "name": "Python 3.7.7 64-bit ('base': conda)",
   "display_name": "Python 3.7.7 64-bit ('base': conda)",
   "metadata": {
    "interpreter": {
     "hash": "3bbab1e47fab5612de67665f76de662ad644fd6afbf2fa4cf9cbbe74fbd3107e"
    }
   }
  }
 },
 "nbformat": 4,
 "nbformat_minor": 2,
 "cells": [
  {
   "cell_type": "markdown",
   "metadata": {},
   "source": [
    "<h1 align=\"center\">Colombia Covid-19 Bar Chart Race by City in Tableau</h1>"
   ]
  },
  {
   "cell_type": "markdown",
   "metadata": {},
   "source": [
    "The goal of this project is to create a Bar Chart Race with the Covid-19 cases by cities in Colombia. The data source will be taken from the goverment oficial repository [Datos abiertos](https://www.datos.gov.co/Salud-y-Protecci-n-Social/Casos-positivos-de-COVID-19-en-Colombia/gt2j-8ykr/data) specifically from their .csv file [.csv file](https://www.datos.gov.co/api/views/gt2j-8ykr/rows.csv?accessType=DOWNLOAD). We will process this data to get a dataframe that we will export to a .hyper file which is a Tableau extension that works well with big tables"
   ]
  },
  {
   "cell_type": "markdown",
   "metadata": {},
   "source": [
    "## 1. Importing and read the data\n",
    "<p>Importing the libraries needed for read the data source and create the dataframe</p>"
   ]
  },
  {
   "cell_type": "code",
   "execution_count": 16,
   "metadata": {},
   "outputs": [],
   "source": [
    "# Importing libraries to be able to work with the data\n",
    "\n",
    "import pandas as pd\n",
    "import numpy as np"
   ]
  },
  {
   "cell_type": "code",
   "execution_count": 17,
   "metadata": {},
   "outputs": [
    {
     "output_type": "execute_result",
     "data": {
      "text/plain": [
       "(902747, 22)"
      ]
     },
     "metadata": {},
     "execution_count": 17
    }
   ],
   "source": [
    "# Reading the data from the official data source. This process will take a while because this data is updated daily and the file size will be growing day by day. Just be patient, pandas will process all the data. \n",
    "\n",
    "raw_df = pd.read_csv('https://www.datos.gov.co/api/views/gt2j-8ykr/rows.csv?accessType=DOWNLOAD')\n",
    "\n",
    "# How many columns and rows has this dataframe?. Let's check\n",
    "\n",
    "raw_df.shape"
   ]
  },
  {
   "cell_type": "code",
   "execution_count": 18,
   "metadata": {},
   "outputs": [
    {
     "output_type": "execute_result",
     "data": {
      "text/plain": [
       "   ID de caso    Fecha de notificación  Código DIVIPOLA  Ciudad de ubicación  \\\n",
       "0           1  2020-03-02T00:00:00.000            11001          Bogotá D.C.   \n",
       "1           2  2020-03-06T00:00:00.000            76111  Guadalajara de Buga   \n",
       "2           3  2020-03-07T00:00:00.000             5001             Medellín   \n",
       "3           4  2020-03-09T00:00:00.000             5001             Medellín   \n",
       "4           5  2020-03-09T00:00:00.000             5001             Medellín   \n",
       "\n",
       "  Departamento o Distrito     atención  Edad Sexo         Tipo Estado  ...  \\\n",
       "0              Bogotá D.C.  Recuperado    19    F   En estudio   Leve  ...   \n",
       "1          Valle del Cauca  Recuperado    34    M    Importado   Leve  ...   \n",
       "2                Antioquia  Recuperado    50    F    Importado   Leve  ...   \n",
       "3                Antioquia  Recuperado    55    M  Relacionado   Leve  ...   \n",
       "4                Antioquia  Recuperado    25    M  Relacionado   Leve  ...   \n",
       "\n",
       "  Fecha de muerte        Fecha diagnostico         Fecha recuperado  \\\n",
       "0             NaN  2020-03-06T00:00:00.000  2020-03-13T00:00:00.000   \n",
       "1             NaN  2020-03-09T00:00:00.000  2020-03-19T00:00:00.000   \n",
       "2             NaN  2020-03-09T00:00:00.000  2020-03-15T00:00:00.000   \n",
       "3             NaN  2020-03-11T00:00:00.000  2020-03-26T00:00:00.000   \n",
       "4             NaN  2020-03-11T00:00:00.000  2020-03-23T00:00:00.000   \n",
       "\n",
       "         fecha reporte web Tipo recuperación Codigo departamento Codigo pais  \\\n",
       "0  2020-03-06T00:00:00.000               PCR                  11         NaN   \n",
       "1  2020-03-09T00:00:00.000               PCR                  76       724.0   \n",
       "2  2020-03-09T00:00:00.000               PCR                   5       724.0   \n",
       "3  2020-03-11T00:00:00.000               PCR                   5         NaN   \n",
       "4  2020-03-11T00:00:00.000               PCR                   5         NaN   \n",
       "\n",
       "   Pertenencia etnica  Nombre grupo etnico ubicación recuperado  \n",
       "0                Otro                  NaN                 Casa  \n",
       "1               Negro                  NaN                 Casa  \n",
       "2                Otro                  NaN                 Casa  \n",
       "3                Otro                  NaN                 Casa  \n",
       "4                Otro                  NaN                 Casa  \n",
       "\n",
       "[5 rows x 22 columns]"
      ],
      "text/html": "<div>\n<style scoped>\n    .dataframe tbody tr th:only-of-type {\n        vertical-align: middle;\n    }\n\n    .dataframe tbody tr th {\n        vertical-align: top;\n    }\n\n    .dataframe thead th {\n        text-align: right;\n    }\n</style>\n<table border=\"1\" class=\"dataframe\">\n  <thead>\n    <tr style=\"text-align: right;\">\n      <th></th>\n      <th>ID de caso</th>\n      <th>Fecha de notificación</th>\n      <th>Código DIVIPOLA</th>\n      <th>Ciudad de ubicación</th>\n      <th>Departamento o Distrito</th>\n      <th>atención</th>\n      <th>Edad</th>\n      <th>Sexo</th>\n      <th>Tipo</th>\n      <th>Estado</th>\n      <th>...</th>\n      <th>Fecha de muerte</th>\n      <th>Fecha diagnostico</th>\n      <th>Fecha recuperado</th>\n      <th>fecha reporte web</th>\n      <th>Tipo recuperación</th>\n      <th>Codigo departamento</th>\n      <th>Codigo pais</th>\n      <th>Pertenencia etnica</th>\n      <th>Nombre grupo etnico</th>\n      <th>ubicación recuperado</th>\n    </tr>\n  </thead>\n  <tbody>\n    <tr>\n      <th>0</th>\n      <td>1</td>\n      <td>2020-03-02T00:00:00.000</td>\n      <td>11001</td>\n      <td>Bogotá D.C.</td>\n      <td>Bogotá D.C.</td>\n      <td>Recuperado</td>\n      <td>19</td>\n      <td>F</td>\n      <td>En estudio</td>\n      <td>Leve</td>\n      <td>...</td>\n      <td>NaN</td>\n      <td>2020-03-06T00:00:00.000</td>\n      <td>2020-03-13T00:00:00.000</td>\n      <td>2020-03-06T00:00:00.000</td>\n      <td>PCR</td>\n      <td>11</td>\n      <td>NaN</td>\n      <td>Otro</td>\n      <td>NaN</td>\n      <td>Casa</td>\n    </tr>\n    <tr>\n      <th>1</th>\n      <td>2</td>\n      <td>2020-03-06T00:00:00.000</td>\n      <td>76111</td>\n      <td>Guadalajara de Buga</td>\n      <td>Valle del Cauca</td>\n      <td>Recuperado</td>\n      <td>34</td>\n      <td>M</td>\n      <td>Importado</td>\n      <td>Leve</td>\n      <td>...</td>\n      <td>NaN</td>\n      <td>2020-03-09T00:00:00.000</td>\n      <td>2020-03-19T00:00:00.000</td>\n      <td>2020-03-09T00:00:00.000</td>\n      <td>PCR</td>\n      <td>76</td>\n      <td>724.0</td>\n      <td>Negro</td>\n      <td>NaN</td>\n      <td>Casa</td>\n    </tr>\n    <tr>\n      <th>2</th>\n      <td>3</td>\n      <td>2020-03-07T00:00:00.000</td>\n      <td>5001</td>\n      <td>Medellín</td>\n      <td>Antioquia</td>\n      <td>Recuperado</td>\n      <td>50</td>\n      <td>F</td>\n      <td>Importado</td>\n      <td>Leve</td>\n      <td>...</td>\n      <td>NaN</td>\n      <td>2020-03-09T00:00:00.000</td>\n      <td>2020-03-15T00:00:00.000</td>\n      <td>2020-03-09T00:00:00.000</td>\n      <td>PCR</td>\n      <td>5</td>\n      <td>724.0</td>\n      <td>Otro</td>\n      <td>NaN</td>\n      <td>Casa</td>\n    </tr>\n    <tr>\n      <th>3</th>\n      <td>4</td>\n      <td>2020-03-09T00:00:00.000</td>\n      <td>5001</td>\n      <td>Medellín</td>\n      <td>Antioquia</td>\n      <td>Recuperado</td>\n      <td>55</td>\n      <td>M</td>\n      <td>Relacionado</td>\n      <td>Leve</td>\n      <td>...</td>\n      <td>NaN</td>\n      <td>2020-03-11T00:00:00.000</td>\n      <td>2020-03-26T00:00:00.000</td>\n      <td>2020-03-11T00:00:00.000</td>\n      <td>PCR</td>\n      <td>5</td>\n      <td>NaN</td>\n      <td>Otro</td>\n      <td>NaN</td>\n      <td>Casa</td>\n    </tr>\n    <tr>\n      <th>4</th>\n      <td>5</td>\n      <td>2020-03-09T00:00:00.000</td>\n      <td>5001</td>\n      <td>Medellín</td>\n      <td>Antioquia</td>\n      <td>Recuperado</td>\n      <td>25</td>\n      <td>M</td>\n      <td>Relacionado</td>\n      <td>Leve</td>\n      <td>...</td>\n      <td>NaN</td>\n      <td>2020-03-11T00:00:00.000</td>\n      <td>2020-03-23T00:00:00.000</td>\n      <td>2020-03-11T00:00:00.000</td>\n      <td>PCR</td>\n      <td>5</td>\n      <td>NaN</td>\n      <td>Otro</td>\n      <td>NaN</td>\n      <td>Casa</td>\n    </tr>\n  </tbody>\n</table>\n<p>5 rows × 22 columns</p>\n</div>"
     },
     "metadata": {},
     "execution_count": 18
    }
   ],
   "source": [
    "# The raw dataframe information and structure\n",
    "\n",
    "raw_df.head()"
   ]
  },
  {
   "cell_type": "markdown",
   "metadata": {},
   "source": [
    "## 2. Cleaning the data\n",
    "<p>Clean and filter the dataframe which will allows us working with the specific data needed for our project</p>"
   ]
  },
  {
   "cell_type": "code",
   "execution_count": 19,
   "metadata": {},
   "outputs": [
    {
     "output_type": "execute_result",
     "data": {
      "text/plain": [
       "ID de caso                    int64\n",
       "Fecha de notificación        object\n",
       "Código DIVIPOLA               int64\n",
       "Ciudad de ubicación          object\n",
       "Departamento o Distrito      object\n",
       "atención                     object\n",
       "Edad                          int64\n",
       "Sexo                         object\n",
       "Tipo                         object\n",
       "Estado                       object\n",
       "País de procedencia          object\n",
       "FIS                          object\n",
       "Fecha de muerte              object\n",
       "Fecha diagnostico            object\n",
       "Fecha recuperado             object\n",
       "fecha reporte web            object\n",
       "Tipo recuperación            object\n",
       "Codigo departamento           int64\n",
       "Codigo pais                 float64\n",
       "Pertenencia etnica           object\n",
       "Nombre grupo etnico          object\n",
       "ubicación recuperado         object\n",
       "dtype: object"
      ]
     },
     "metadata": {},
     "execution_count": 19
    }
   ],
   "source": [
    "# Checking all the column names to determine which of them we will use for our analysis\n",
    "\n",
    "raw_df.dtypes"
   ]
  },
  {
   "cell_type": "code",
   "execution_count": 20,
   "metadata": {},
   "outputs": [
    {
     "output_type": "execute_result",
     "data": {
      "text/plain": [
       "   ID de caso    Fecha de notificación  Ciudad de ubicación\n",
       "0           1  2020-03-02T00:00:00.000          Bogotá D.C.\n",
       "1           2  2020-03-06T00:00:00.000  Guadalajara de Buga\n",
       "2           3  2020-03-07T00:00:00.000             Medellín\n",
       "3           4  2020-03-09T00:00:00.000             Medellín\n",
       "4           5  2020-03-09T00:00:00.000             Medellín"
      ],
      "text/html": "<div>\n<style scoped>\n    .dataframe tbody tr th:only-of-type {\n        vertical-align: middle;\n    }\n\n    .dataframe tbody tr th {\n        vertical-align: top;\n    }\n\n    .dataframe thead th {\n        text-align: right;\n    }\n</style>\n<table border=\"1\" class=\"dataframe\">\n  <thead>\n    <tr style=\"text-align: right;\">\n      <th></th>\n      <th>ID de caso</th>\n      <th>Fecha de notificación</th>\n      <th>Ciudad de ubicación</th>\n    </tr>\n  </thead>\n  <tbody>\n    <tr>\n      <th>0</th>\n      <td>1</td>\n      <td>2020-03-02T00:00:00.000</td>\n      <td>Bogotá D.C.</td>\n    </tr>\n    <tr>\n      <th>1</th>\n      <td>2</td>\n      <td>2020-03-06T00:00:00.000</td>\n      <td>Guadalajara de Buga</td>\n    </tr>\n    <tr>\n      <th>2</th>\n      <td>3</td>\n      <td>2020-03-07T00:00:00.000</td>\n      <td>Medellín</td>\n    </tr>\n    <tr>\n      <th>3</th>\n      <td>4</td>\n      <td>2020-03-09T00:00:00.000</td>\n      <td>Medellín</td>\n    </tr>\n    <tr>\n      <th>4</th>\n      <td>5</td>\n      <td>2020-03-09T00:00:00.000</td>\n      <td>Medellín</td>\n    </tr>\n  </tbody>\n</table>\n</div>"
     },
     "metadata": {},
     "execution_count": 20
    }
   ],
   "source": [
    "# Select the columns that we will need to create our dataframe. In this case I only need three columns 'ID de caso', 'Fecha de notificación' and 'Ciudad de ubicación'\n",
    "\n",
    "df_short = raw_df[['ID de caso', 'Fecha de notificación', 'Ciudad de ubicación']]\n",
    "\n",
    "# See that the 'Fecha de notificación' data type changed. We need to change that in the data manipulation step.\n",
    "\n",
    "df_short.head()"
   ]
  },
  {
   "source": [
    "## 3. Manipulating the data\n",
    "<p>Manipulate the data to obtain the dataset with the information that will be necessary in the Data Visualization step</p>"
   ],
   "cell_type": "markdown",
   "metadata": {}
  },
  {
   "cell_type": "code",
   "execution_count": 21,
   "metadata": {},
   "outputs": [
    {
     "output_type": "execute_result",
     "data": {
      "text/plain": [
       "ID                 int64\n",
       "FECHA_CONTAGIO    object\n",
       "CIUDAD            object\n",
       "dtype: object"
      ]
     },
     "metadata": {},
     "execution_count": 21
    }
   ],
   "source": [
    "# Rename the columns names and normalizing them with upper case letters\n",
    "\n",
    "df_short.rename(columns={'ID de caso': 'ID', 'Fecha de notificación': 'FECHA_CONTAGIO', 'Ciudad de ubicación': 'CIUDAD'}, inplace=True)\n",
    "df_short.dtypes"
   ]
  },
  {
   "cell_type": "code",
   "execution_count": 22,
   "metadata": {},
   "outputs": [
    {
     "output_type": "execute_result",
     "data": {
      "text/plain": [
       "ID                         int64\n",
       "FECHA_CONTAGIO    datetime64[ns]\n",
       "CIUDAD                    object\n",
       "dtype: object"
      ]
     },
     "metadata": {},
     "execution_count": 22
    }
   ],
   "source": [
    "# Setting the datetime dtype\n",
    "\n",
    "df_short['FECHA_CONTAGIO'] = pd.to_datetime(df_short['FECHA_CONTAGIO']) \n",
    "df_short.dtypes"
   ]
  },
  {
   "cell_type": "code",
   "execution_count": 23,
   "metadata": {},
   "outputs": [
    {
     "output_type": "execute_result",
     "data": {
      "text/plain": [
       "   ID FECHA_CONTAGIO               CIUDAD  CASOS_DIARIOS\n",
       "0   1     2020-03-02          Bogotá D.C.              1\n",
       "1   2     2020-03-06  Guadalajara de Buga              1\n",
       "2   3     2020-03-07             Medellín              1\n",
       "3   4     2020-03-09             Medellín              1\n",
       "4   5     2020-03-09             Medellín              1\n",
       "5   6     2020-03-10               Itagüí              1\n",
       "6   7     2020-03-08  Cartagena de Indias              1\n",
       "7   8     2020-03-09          Bogotá D.C.              1\n",
       "8   9     2020-03-08          Bogotá D.C.              1\n",
       "9  10     2020-03-12          Bogotá D.C.              1"
      ],
      "text/html": "<div>\n<style scoped>\n    .dataframe tbody tr th:only-of-type {\n        vertical-align: middle;\n    }\n\n    .dataframe tbody tr th {\n        vertical-align: top;\n    }\n\n    .dataframe thead th {\n        text-align: right;\n    }\n</style>\n<table border=\"1\" class=\"dataframe\">\n  <thead>\n    <tr style=\"text-align: right;\">\n      <th></th>\n      <th>ID</th>\n      <th>FECHA_CONTAGIO</th>\n      <th>CIUDAD</th>\n      <th>CASOS_DIARIOS</th>\n    </tr>\n  </thead>\n  <tbody>\n    <tr>\n      <th>0</th>\n      <td>1</td>\n      <td>2020-03-02</td>\n      <td>Bogotá D.C.</td>\n      <td>1</td>\n    </tr>\n    <tr>\n      <th>1</th>\n      <td>2</td>\n      <td>2020-03-06</td>\n      <td>Guadalajara de Buga</td>\n      <td>1</td>\n    </tr>\n    <tr>\n      <th>2</th>\n      <td>3</td>\n      <td>2020-03-07</td>\n      <td>Medellín</td>\n      <td>1</td>\n    </tr>\n    <tr>\n      <th>3</th>\n      <td>4</td>\n      <td>2020-03-09</td>\n      <td>Medellín</td>\n      <td>1</td>\n    </tr>\n    <tr>\n      <th>4</th>\n      <td>5</td>\n      <td>2020-03-09</td>\n      <td>Medellín</td>\n      <td>1</td>\n    </tr>\n    <tr>\n      <th>5</th>\n      <td>6</td>\n      <td>2020-03-10</td>\n      <td>Itagüí</td>\n      <td>1</td>\n    </tr>\n    <tr>\n      <th>6</th>\n      <td>7</td>\n      <td>2020-03-08</td>\n      <td>Cartagena de Indias</td>\n      <td>1</td>\n    </tr>\n    <tr>\n      <th>7</th>\n      <td>8</td>\n      <td>2020-03-09</td>\n      <td>Bogotá D.C.</td>\n      <td>1</td>\n    </tr>\n    <tr>\n      <th>8</th>\n      <td>9</td>\n      <td>2020-03-08</td>\n      <td>Bogotá D.C.</td>\n      <td>1</td>\n    </tr>\n    <tr>\n      <th>9</th>\n      <td>10</td>\n      <td>2020-03-12</td>\n      <td>Bogotá D.C.</td>\n      <td>1</td>\n    </tr>\n  </tbody>\n</table>\n</div>"
     },
     "metadata": {},
     "execution_count": 23
    }
   ],
   "source": [
    "# Gruping the dataframe to aggregate a new column with the daily cases by city\n",
    "\n",
    "df_casos = df_short.groupby(['ID', 'FECHA_CONTAGIO', 'CIUDAD']).CIUDAD.agg('count').to_frame('CASOS_DIARIOS').reset_index()\n",
    "df_casos.head(10)"
   ]
  },
  {
   "cell_type": "code",
   "execution_count": 24,
   "metadata": {},
   "outputs": [
    {
     "output_type": "execute_result",
     "data": {
      "text/plain": [
       "   ID FECHA_CONTAGIO               CIUDAD  CASOS_DIARIOS  CASOS_TOTALES\n",
       "0   1     2020-03-02          Bogotá D.C.              1              1\n",
       "1   2     2020-03-06  Guadalajara de Buga              1              1\n",
       "2   3     2020-03-07             Medellín              1              1\n",
       "3   4     2020-03-09             Medellín              1              2\n",
       "4   5     2020-03-09             Medellín              1              3"
      ],
      "text/html": "<div>\n<style scoped>\n    .dataframe tbody tr th:only-of-type {\n        vertical-align: middle;\n    }\n\n    .dataframe tbody tr th {\n        vertical-align: top;\n    }\n\n    .dataframe thead th {\n        text-align: right;\n    }\n</style>\n<table border=\"1\" class=\"dataframe\">\n  <thead>\n    <tr style=\"text-align: right;\">\n      <th></th>\n      <th>ID</th>\n      <th>FECHA_CONTAGIO</th>\n      <th>CIUDAD</th>\n      <th>CASOS_DIARIOS</th>\n      <th>CASOS_TOTALES</th>\n    </tr>\n  </thead>\n  <tbody>\n    <tr>\n      <th>0</th>\n      <td>1</td>\n      <td>2020-03-02</td>\n      <td>Bogotá D.C.</td>\n      <td>1</td>\n      <td>1</td>\n    </tr>\n    <tr>\n      <th>1</th>\n      <td>2</td>\n      <td>2020-03-06</td>\n      <td>Guadalajara de Buga</td>\n      <td>1</td>\n      <td>1</td>\n    </tr>\n    <tr>\n      <th>2</th>\n      <td>3</td>\n      <td>2020-03-07</td>\n      <td>Medellín</td>\n      <td>1</td>\n      <td>1</td>\n    </tr>\n    <tr>\n      <th>3</th>\n      <td>4</td>\n      <td>2020-03-09</td>\n      <td>Medellín</td>\n      <td>1</td>\n      <td>2</td>\n    </tr>\n    <tr>\n      <th>4</th>\n      <td>5</td>\n      <td>2020-03-09</td>\n      <td>Medellín</td>\n      <td>1</td>\n      <td>3</td>\n    </tr>\n  </tbody>\n</table>\n</div>"
     },
     "metadata": {},
     "execution_count": 24
    }
   ],
   "source": [
    "# Again we will group the dataframe by city and aggregate a new column with the acummulated sum of cases. This is fundamental to create the bar chart race in Tableu\n",
    "\n",
    "df_casos['CASOS_TOTALES'] = df_casos.groupby(['CIUDAD']).CASOS_DIARIOS.agg('cumsum')\n",
    "df_casos.head()"
   ]
  },
  {
   "cell_type": "code",
   "execution_count": 25,
   "metadata": {},
   "outputs": [
    {
     "output_type": "execute_result",
     "data": {
      "text/plain": [
       "(902747, 5)"
      ]
     },
     "metadata": {},
     "execution_count": 25
    }
   ],
   "source": [
    "# Checkin the number of rows and columns in our dataframe\n",
    "\n",
    "df_casos.shape"
   ]
  },
  {
   "cell_type": "code",
   "execution_count": 26,
   "metadata": {},
   "outputs": [
    {
     "output_type": "execute_result",
     "data": {
      "text/plain": [
       "False"
      ]
     },
     "metadata": {},
     "execution_count": 26
    }
   ],
   "source": [
    "# Looking if the dataframe has any null/nan values\n",
    "\n",
    "df_casos.isnull().values.any()"
   ]
  },
  {
   "cell_type": "code",
   "execution_count": 27,
   "metadata": {},
   "outputs": [
    {
     "output_type": "execute_result",
     "data": {
      "text/plain": [
       "ID                         int64\n",
       "FECHA_CONTAGIO    datetime64[ns]\n",
       "CIUDAD                    object\n",
       "CASOS_DIARIOS              int64\n",
       "CASOS_TOTALES              int64\n",
       "dtype: object"
      ]
     },
     "metadata": {},
     "execution_count": 27
    }
   ],
   "source": [
    "# Check our dataframe dtypes\n",
    "\n",
    "df_casos.dtypes"
   ]
  },
  {
   "source": [
    "## 4. Export the data\n",
    "<p>We will work the visualization with Tableu so, we need to export our pandas dataframe into a file that can be recognized by the Tableu software. We need to download the following tools to be able to export and connect with Tableau:</p>\n",
    "\n",
    "[Pandleau](https://pypi.org/project/pandleau/)\n",
    "\n",
    "[TableauSDK](https://help.tableau.com/current/api/sdk/en-us/help.htm)"
   ],
   "cell_type": "markdown",
   "metadata": {}
  },
  {
   "cell_type": "code",
   "execution_count": 28,
   "metadata": {
    "tags": []
   },
   "outputs": [
    {
     "output_type": "stream",
     "name": "stdout",
     "text": [
      "You are using the Tableau SDK, please save the output as .tde format\n",
      "You are using the Extract API 2.0, please save the output as .hyper format\n"
     ]
    }
   ],
   "source": [
    "# We need to install the following library to be able to import our pandas dataframe into a .hyper file that will works in Tableau. \n",
    "\n",
    "from pandleau import *\n",
    "from tableausdk import *"
   ]
  },
  {
   "cell_type": "code",
   "execution_count": 30,
   "metadata": {
    "tags": []
   },
   "outputs": [
    {
     "output_type": "stream",
     "name": "stdout",
     "text": [
      "Table 'Extract' does not exist in extract df_colombia_covid19.hyper, creating.\n",
      "processing table: 902747it [00:48, 18678.03it/s]\n",
      "the file df_colombia_covid19.hyper as been created\n"
     ]
    }
   ],
   "source": [
    "# Converting our dataframe into a Tableau object\n",
    "\n",
    "df_colombia_covid19 = pandleau(df_casos)\n",
    "\n",
    "# Creating a .hyper extract\n",
    "# The .hyper is the current file extension supported in the last version of Tableau Personal, the .tde extension files are not currently supported by the Pandleau library\n",
    "\n",
    "df_colombia_covid19.to_tableau('df_colombia_covid19.hyper', add_index=False)\n",
    "print('the file df_colombia_covid19.hyper as been created')"
   ]
  }
 ]
}