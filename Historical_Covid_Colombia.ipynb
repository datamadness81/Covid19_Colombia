{
 "metadata": {
  "language_info": {
   "codemirror_mode": {
    "name": "ipython",
    "version": 3
   },
   "file_extension": ".py",
   "mimetype": "text/x-python",
   "name": "python",
   "nbconvert_exporter": "python",
   "pygments_lexer": "ipython3",
   "version": "3.7.7-final"
  },
  "orig_nbformat": 2,
  "kernelspec": {
   "name": "Python 3.7.7 64-bit ('base': conda)",
   "display_name": "Python 3.7.7 64-bit ('base': conda)",
   "metadata": {
    "interpreter": {
     "hash": "3bbab1e47fab5612de67665f76de662ad644fd6afbf2fa4cf9cbbe74fbd3107e"
    }
   }
  }
 },
 "nbformat": 4,
 "nbformat_minor": 2,
 "cells": [
  {
   "cell_type": "markdown",
   "metadata": {},
   "source": [
    "<h1 align=\"center\">Colombia Covid-19 Bar Chart Race by City in Tableau</h1>"
   ]
  },
  {
   "cell_type": "markdown",
   "metadata": {},
   "source": [
    "The goal of this project is to create a Bar Chart Race with the Covid-19 cases by cities in Colombia. The data source will be taken from the goverment oficial repository [Datos abiertos](https://www.datos.gov.co/Salud-y-Protecci-n-Social/Casos-positivos-de-COVID-19-en-Colombia/gt2j-8ykr/data) specifically from their .csv file [.csv file](https://www.datos.gov.co/api/views/gt2j-8ykr/rows.csv?accessType=DOWNLOAD). We will process this data to get a dataframe that we will export to a .hyper file which is a Tableau extension that works well with big tables"
   ]
  },
  {
   "cell_type": "markdown",
   "metadata": {},
   "source": [
    "## 1. Importing and read the data\n",
    "<p>Importing the libraries needed for read the data source and create the dataframe</p>"
   ]
  },
  {
   "cell_type": "code",
   "execution_count": 1,
   "metadata": {},
   "outputs": [],
   "source": [
    "# Importing libraries to be able to work with the data\n",
    "\n",
    "import pandas as pd\n",
    "import numpy as np"
   ]
  },
  {
   "cell_type": "code",
   "execution_count": 2,
   "metadata": {},
   "outputs": [
    {
     "output_type": "execute_result",
     "data": {
      "text/plain": [
       "(911316, 22)"
      ]
     },
     "metadata": {},
     "execution_count": 2
    }
   ],
   "source": [
    "# Reading the data from the official data source. This process will take a while because this data is updated daily and the file size will be growing day by day. Just be patient, pandas will process all the data. \n",
    "\n",
    "raw_df = pd.read_csv('https://www.datos.gov.co/api/views/gt2j-8ykr/rows.csv?accessType=DOWNLOAD')\n",
    "\n",
    "# How many columns and rows has this dataframe?. Let's check\n",
    "\n",
    "raw_df.shape"
   ]
  },
  {
   "cell_type": "code",
   "execution_count": 3,
   "metadata": {},
   "outputs": [
    {
     "output_type": "execute_result",
     "data": {
      "text/plain": [
       "   ID de caso    Fecha de notificación  Código DIVIPOLA  Ciudad de ubicación  \\\n",
       "0           1  2020-03-02T00:00:00.000            11001          Bogotá D.C.   \n",
       "1           2  2020-03-06T00:00:00.000            76111  Guadalajara de Buga   \n",
       "2           3  2020-03-07T00:00:00.000             5001             Medellín   \n",
       "3           4  2020-03-09T00:00:00.000             5001             Medellín   \n",
       "4           5  2020-03-09T00:00:00.000             5001             Medellín   \n",
       "\n",
       "  Departamento o Distrito     atención  Edad Sexo         Tipo Estado  ...  \\\n",
       "0              Bogotá D.C.  Recuperado    19    F   En estudio   Leve  ...   \n",
       "1          Valle del Cauca  Recuperado    34    M    Importado   Leve  ...   \n",
       "2                Antioquia  Recuperado    50    F    Importado   Leve  ...   \n",
       "3                Antioquia  Recuperado    55    M  Relacionado   Leve  ...   \n",
       "4                Antioquia  Recuperado    25    M  Relacionado   Leve  ...   \n",
       "\n",
       "  Fecha de muerte        Fecha diagnostico         Fecha recuperado  \\\n",
       "0             NaN  2020-03-06T00:00:00.000  2020-03-13T00:00:00.000   \n",
       "1             NaN  2020-03-09T00:00:00.000  2020-03-19T00:00:00.000   \n",
       "2             NaN  2020-03-09T00:00:00.000  2020-03-15T00:00:00.000   \n",
       "3             NaN  2020-03-11T00:00:00.000  2020-03-26T00:00:00.000   \n",
       "4             NaN  2020-03-11T00:00:00.000  2020-03-23T00:00:00.000   \n",
       "\n",
       "         fecha reporte web Tipo recuperación Codigo departamento Codigo pais  \\\n",
       "0  2020-03-06T00:00:00.000               PCR                  11         NaN   \n",
       "1  2020-03-09T00:00:00.000               PCR                  76       724.0   \n",
       "2  2020-03-09T00:00:00.000               PCR                   5       724.0   \n",
       "3  2020-03-11T00:00:00.000               PCR                   5         NaN   \n",
       "4  2020-03-11T00:00:00.000               PCR                   5         NaN   \n",
       "\n",
       "   Pertenencia etnica  Nombre grupo etnico ubicación recuperado  \n",
       "0                Otro                  NaN                 Casa  \n",
       "1               Negro                  NaN                 Casa  \n",
       "2                Otro                  NaN                 Casa  \n",
       "3                Otro                  NaN                 Casa  \n",
       "4                Otro                  NaN                 Casa  \n",
       "\n",
       "[5 rows x 22 columns]"
      ],
      "text/html": "<div>\n<style scoped>\n    .dataframe tbody tr th:only-of-type {\n        vertical-align: middle;\n    }\n\n    .dataframe tbody tr th {\n        vertical-align: top;\n    }\n\n    .dataframe thead th {\n        text-align: right;\n    }\n</style>\n<table border=\"1\" class=\"dataframe\">\n  <thead>\n    <tr style=\"text-align: right;\">\n      <th></th>\n      <th>ID de caso</th>\n      <th>Fecha de notificación</th>\n      <th>Código DIVIPOLA</th>\n      <th>Ciudad de ubicación</th>\n      <th>Departamento o Distrito</th>\n      <th>atención</th>\n      <th>Edad</th>\n      <th>Sexo</th>\n      <th>Tipo</th>\n      <th>Estado</th>\n      <th>...</th>\n      <th>Fecha de muerte</th>\n      <th>Fecha diagnostico</th>\n      <th>Fecha recuperado</th>\n      <th>fecha reporte web</th>\n      <th>Tipo recuperación</th>\n      <th>Codigo departamento</th>\n      <th>Codigo pais</th>\n      <th>Pertenencia etnica</th>\n      <th>Nombre grupo etnico</th>\n      <th>ubicación recuperado</th>\n    </tr>\n  </thead>\n  <tbody>\n    <tr>\n      <th>0</th>\n      <td>1</td>\n      <td>2020-03-02T00:00:00.000</td>\n      <td>11001</td>\n      <td>Bogotá D.C.</td>\n      <td>Bogotá D.C.</td>\n      <td>Recuperado</td>\n      <td>19</td>\n      <td>F</td>\n      <td>En estudio</td>\n      <td>Leve</td>\n      <td>...</td>\n      <td>NaN</td>\n      <td>2020-03-06T00:00:00.000</td>\n      <td>2020-03-13T00:00:00.000</td>\n      <td>2020-03-06T00:00:00.000</td>\n      <td>PCR</td>\n      <td>11</td>\n      <td>NaN</td>\n      <td>Otro</td>\n      <td>NaN</td>\n      <td>Casa</td>\n    </tr>\n    <tr>\n      <th>1</th>\n      <td>2</td>\n      <td>2020-03-06T00:00:00.000</td>\n      <td>76111</td>\n      <td>Guadalajara de Buga</td>\n      <td>Valle del Cauca</td>\n      <td>Recuperado</td>\n      <td>34</td>\n      <td>M</td>\n      <td>Importado</td>\n      <td>Leve</td>\n      <td>...</td>\n      <td>NaN</td>\n      <td>2020-03-09T00:00:00.000</td>\n      <td>2020-03-19T00:00:00.000</td>\n      <td>2020-03-09T00:00:00.000</td>\n      <td>PCR</td>\n      <td>76</td>\n      <td>724.0</td>\n      <td>Negro</td>\n      <td>NaN</td>\n      <td>Casa</td>\n    </tr>\n    <tr>\n      <th>2</th>\n      <td>3</td>\n      <td>2020-03-07T00:00:00.000</td>\n      <td>5001</td>\n      <td>Medellín</td>\n      <td>Antioquia</td>\n      <td>Recuperado</td>\n      <td>50</td>\n      <td>F</td>\n      <td>Importado</td>\n      <td>Leve</td>\n      <td>...</td>\n      <td>NaN</td>\n      <td>2020-03-09T00:00:00.000</td>\n      <td>2020-03-15T00:00:00.000</td>\n      <td>2020-03-09T00:00:00.000</td>\n      <td>PCR</td>\n      <td>5</td>\n      <td>724.0</td>\n      <td>Otro</td>\n      <td>NaN</td>\n      <td>Casa</td>\n    </tr>\n    <tr>\n      <th>3</th>\n      <td>4</td>\n      <td>2020-03-09T00:00:00.000</td>\n      <td>5001</td>\n      <td>Medellín</td>\n      <td>Antioquia</td>\n      <td>Recuperado</td>\n      <td>55</td>\n      <td>M</td>\n      <td>Relacionado</td>\n      <td>Leve</td>\n      <td>...</td>\n      <td>NaN</td>\n      <td>2020-03-11T00:00:00.000</td>\n      <td>2020-03-26T00:00:00.000</td>\n      <td>2020-03-11T00:00:00.000</td>\n      <td>PCR</td>\n      <td>5</td>\n      <td>NaN</td>\n      <td>Otro</td>\n      <td>NaN</td>\n      <td>Casa</td>\n    </tr>\n    <tr>\n      <th>4</th>\n      <td>5</td>\n      <td>2020-03-09T00:00:00.000</td>\n      <td>5001</td>\n      <td>Medellín</td>\n      <td>Antioquia</td>\n      <td>Recuperado</td>\n      <td>25</td>\n      <td>M</td>\n      <td>Relacionado</td>\n      <td>Leve</td>\n      <td>...</td>\n      <td>NaN</td>\n      <td>2020-03-11T00:00:00.000</td>\n      <td>2020-03-23T00:00:00.000</td>\n      <td>2020-03-11T00:00:00.000</td>\n      <td>PCR</td>\n      <td>5</td>\n      <td>NaN</td>\n      <td>Otro</td>\n      <td>NaN</td>\n      <td>Casa</td>\n    </tr>\n  </tbody>\n</table>\n<p>5 rows × 22 columns</p>\n</div>"
     },
     "metadata": {},
     "execution_count": 3
    }
   ],
   "source": [
    "# The raw dataframe information and structure\n",
    "\n",
    "raw_df.head()"
   ]
  },
  {
   "cell_type": "markdown",
   "metadata": {},
   "source": [
    "## 2. Cleaning the data\n",
    "<p>Clean and filter the dataframe which will allows us working with the specific data needed for our project</p>"
   ]
  },
  {
   "cell_type": "code",
   "execution_count": 4,
   "metadata": {},
   "outputs": [
    {
     "output_type": "execute_result",
     "data": {
      "text/plain": [
       "ID de caso                    int64\n",
       "Fecha de notificación        object\n",
       "Código DIVIPOLA               int64\n",
       "Ciudad de ubicación          object\n",
       "Departamento o Distrito      object\n",
       "atención                     object\n",
       "Edad                          int64\n",
       "Sexo                         object\n",
       "Tipo                         object\n",
       "Estado                       object\n",
       "País de procedencia          object\n",
       "FIS                          object\n",
       "Fecha de muerte              object\n",
       "Fecha diagnostico            object\n",
       "Fecha recuperado             object\n",
       "fecha reporte web            object\n",
       "Tipo recuperación            object\n",
       "Codigo departamento           int64\n",
       "Codigo pais                 float64\n",
       "Pertenencia etnica           object\n",
       "Nombre grupo etnico          object\n",
       "ubicación recuperado         object\n",
       "dtype: object"
      ]
     },
     "metadata": {},
     "execution_count": 4
    }
   ],
   "source": [
    "# Checking all the column names to determine which of them we will use for our analysis\n",
    "\n",
    "raw_df.dtypes"
   ]
  },
  {
   "cell_type": "code",
   "execution_count": 5,
   "metadata": {},
   "outputs": [
    {
     "output_type": "execute_result",
     "data": {
      "text/plain": [
       "Fecha de notificación    object\n",
       "Ciudad de ubicación      object\n",
       "dtype: object"
      ]
     },
     "metadata": {},
     "execution_count": 5
    }
   ],
   "source": [
    "# Select the columns that we will need to create our dataframe. In this case I only need two columns 'Fecha de notificación' and 'Ciudad de ubicación'\n",
    "\n",
    "df_short = raw_df[['Fecha de notificación', 'Ciudad de ubicación']]\n",
    "\n",
    "# See that the 'Fecha de notificación' data type changed. We need to change that in the data manipulation step.\n",
    "\n",
    "df_short.dtypes"
   ]
  },
  {
   "source": [
    "## 3. Manipulating the data\n",
    "<p>Manipulate the data to obtain the dataset with the information that will be necessary in the Data Visualization step</p>"
   ],
   "cell_type": "markdown",
   "metadata": {}
  },
  {
   "cell_type": "code",
   "execution_count": 6,
   "metadata": {},
   "outputs": [
    {
     "output_type": "execute_result",
     "data": {
      "text/plain": [
       "FECHA_CONTAGIO    object\n",
       "CIUDAD            object\n",
       "dtype: object"
      ]
     },
     "metadata": {},
     "execution_count": 6
    }
   ],
   "source": [
    "# Rename the columns names and normalizing them with upper case letters\n",
    "\n",
    "df_short.rename(columns={'Fecha de notificación': 'FECHA_CONTAGIO', 'Ciudad de ubicación': 'CIUDAD'}, inplace=True)\n",
    "df_short.dtypes"
   ]
  },
  {
   "cell_type": "code",
   "execution_count": 7,
   "metadata": {},
   "outputs": [
    {
     "output_type": "execute_result",
     "data": {
      "text/plain": [
       "FECHA_CONTAGIO    datetime64[ns]\n",
       "CIUDAD                    object\n",
       "dtype: object"
      ]
     },
     "metadata": {},
     "execution_count": 7
    }
   ],
   "source": [
    "# Setting the datetime dtype\n",
    "\n",
    "df_short['FECHA_CONTAGIO'] = pd.to_datetime(df_short['FECHA_CONTAGIO']) \n",
    "df_short.dtypes"
   ]
  },
  {
   "cell_type": "code",
   "execution_count": 8,
   "metadata": {},
   "outputs": [
    {
     "output_type": "execute_result",
     "data": {
      "text/plain": [
       "  FECHA_CONTAGIO               CIUDAD  CASOS_DIARIOS\n",
       "0     2020-03-02          Bogotá D.C.              1\n",
       "1     2020-03-06  Guadalajara de Buga              1\n",
       "2     2020-03-07             Medellín              1\n",
       "3     2020-03-08          Bogotá D.C.              1\n",
       "4     2020-03-08  Cartagena de Indias              1"
      ],
      "text/html": "<div>\n<style scoped>\n    .dataframe tbody tr th:only-of-type {\n        vertical-align: middle;\n    }\n\n    .dataframe tbody tr th {\n        vertical-align: top;\n    }\n\n    .dataframe thead th {\n        text-align: right;\n    }\n</style>\n<table border=\"1\" class=\"dataframe\">\n  <thead>\n    <tr style=\"text-align: right;\">\n      <th></th>\n      <th>FECHA_CONTAGIO</th>\n      <th>CIUDAD</th>\n      <th>CASOS_DIARIOS</th>\n    </tr>\n  </thead>\n  <tbody>\n    <tr>\n      <th>0</th>\n      <td>2020-03-02</td>\n      <td>Bogotá D.C.</td>\n      <td>1</td>\n    </tr>\n    <tr>\n      <th>1</th>\n      <td>2020-03-06</td>\n      <td>Guadalajara de Buga</td>\n      <td>1</td>\n    </tr>\n    <tr>\n      <th>2</th>\n      <td>2020-03-07</td>\n      <td>Medellín</td>\n      <td>1</td>\n    </tr>\n    <tr>\n      <th>3</th>\n      <td>2020-03-08</td>\n      <td>Bogotá D.C.</td>\n      <td>1</td>\n    </tr>\n    <tr>\n      <th>4</th>\n      <td>2020-03-08</td>\n      <td>Cartagena de Indias</td>\n      <td>1</td>\n    </tr>\n  </tbody>\n</table>\n</div>"
     },
     "metadata": {},
     "execution_count": 8
    }
   ],
   "source": [
    "# Gruping the dataframe to aggregate a new column with the daily cases by city\n",
    "\n",
    "df_casos = df_short.groupby(['FECHA_CONTAGIO', 'CIUDAD']).CIUDAD.agg('count').to_frame('CASOS_DIARIOS').reset_index()\n",
    "df_casos.head()"
   ]
  },
  {
   "cell_type": "code",
   "execution_count": 9,
   "metadata": {},
   "outputs": [
    {
     "output_type": "execute_result",
     "data": {
      "text/plain": [
       "               CASOS_DIARIOS                                              \\\n",
       "CIUDAD             Abejorral Abriaquí Acacías Acandí Acevedo Achí Agrado   \n",
       "FECHA_CONTAGIO                                                             \n",
       "2020-03-02                 0        0       0      0       0    0      0   \n",
       "2020-03-06                 0        0       0      0       0    0      0   \n",
       "2020-03-07                 0        0       0      0       0    0      0   \n",
       "2020-03-08                 0        0       0      0       0    0      0   \n",
       "2020-03-09                 0        0       0      0       0    0      0   \n",
       "\n",
       "                                              ...                            \\\n",
       "CIUDAD         Agua de Dios Aguachica Aguada  ... Zaragoza Zarzal Zetaquira   \n",
       "FECHA_CONTAGIO                                ...                             \n",
       "2020-03-02                0         0      0  ...        0      0         0   \n",
       "2020-03-06                0         0      0  ...        0      0         0   \n",
       "2020-03-07                0         0      0  ...        0      0         0   \n",
       "2020-03-08                0         0      0  ...        0      0         0   \n",
       "2020-03-09                0         0      0  ...        0      0         0   \n",
       "\n",
       "                                                                           \n",
       "CIUDAD         Zipacón Zipaquirá Zona Bananera Ábrego Íquira Úmbita Útica  \n",
       "FECHA_CONTAGIO                                                             \n",
       "2020-03-02           0         0             0      0      0      0     0  \n",
       "2020-03-06           0         0             0      0      0      0     0  \n",
       "2020-03-07           0         0             0      0      0      0     0  \n",
       "2020-03-08           0         0             0      0      0      0     0  \n",
       "2020-03-09           0         0             0      0      0      0     0  \n",
       "\n",
       "[5 rows x 991 columns]"
      ],
      "text/html": "<div>\n<style scoped>\n    .dataframe tbody tr th:only-of-type {\n        vertical-align: middle;\n    }\n\n    .dataframe tbody tr th {\n        vertical-align: top;\n    }\n\n    .dataframe thead tr th {\n        text-align: left;\n    }\n\n    .dataframe thead tr:last-of-type th {\n        text-align: right;\n    }\n</style>\n<table border=\"1\" class=\"dataframe\">\n  <thead>\n    <tr>\n      <th></th>\n      <th colspan=\"21\" halign=\"left\">CASOS_DIARIOS</th>\n    </tr>\n    <tr>\n      <th>CIUDAD</th>\n      <th>Abejorral</th>\n      <th>Abriaquí</th>\n      <th>Acacías</th>\n      <th>Acandí</th>\n      <th>Acevedo</th>\n      <th>Achí</th>\n      <th>Agrado</th>\n      <th>Agua de Dios</th>\n      <th>Aguachica</th>\n      <th>Aguada</th>\n      <th>...</th>\n      <th>Zaragoza</th>\n      <th>Zarzal</th>\n      <th>Zetaquira</th>\n      <th>Zipacón</th>\n      <th>Zipaquirá</th>\n      <th>Zona Bananera</th>\n      <th>Ábrego</th>\n      <th>Íquira</th>\n      <th>Úmbita</th>\n      <th>Útica</th>\n    </tr>\n    <tr>\n      <th>FECHA_CONTAGIO</th>\n      <th></th>\n      <th></th>\n      <th></th>\n      <th></th>\n      <th></th>\n      <th></th>\n      <th></th>\n      <th></th>\n      <th></th>\n      <th></th>\n      <th></th>\n      <th></th>\n      <th></th>\n      <th></th>\n      <th></th>\n      <th></th>\n      <th></th>\n      <th></th>\n      <th></th>\n      <th></th>\n      <th></th>\n    </tr>\n  </thead>\n  <tbody>\n    <tr>\n      <th>2020-03-02</th>\n      <td>0</td>\n      <td>0</td>\n      <td>0</td>\n      <td>0</td>\n      <td>0</td>\n      <td>0</td>\n      <td>0</td>\n      <td>0</td>\n      <td>0</td>\n      <td>0</td>\n      <td>...</td>\n      <td>0</td>\n      <td>0</td>\n      <td>0</td>\n      <td>0</td>\n      <td>0</td>\n      <td>0</td>\n      <td>0</td>\n      <td>0</td>\n      <td>0</td>\n      <td>0</td>\n    </tr>\n    <tr>\n      <th>2020-03-06</th>\n      <td>0</td>\n      <td>0</td>\n      <td>0</td>\n      <td>0</td>\n      <td>0</td>\n      <td>0</td>\n      <td>0</td>\n      <td>0</td>\n      <td>0</td>\n      <td>0</td>\n      <td>...</td>\n      <td>0</td>\n      <td>0</td>\n      <td>0</td>\n      <td>0</td>\n      <td>0</td>\n      <td>0</td>\n      <td>0</td>\n      <td>0</td>\n      <td>0</td>\n      <td>0</td>\n    </tr>\n    <tr>\n      <th>2020-03-07</th>\n      <td>0</td>\n      <td>0</td>\n      <td>0</td>\n      <td>0</td>\n      <td>0</td>\n      <td>0</td>\n      <td>0</td>\n      <td>0</td>\n      <td>0</td>\n      <td>0</td>\n      <td>...</td>\n      <td>0</td>\n      <td>0</td>\n      <td>0</td>\n      <td>0</td>\n      <td>0</td>\n      <td>0</td>\n      <td>0</td>\n      <td>0</td>\n      <td>0</td>\n      <td>0</td>\n    </tr>\n    <tr>\n      <th>2020-03-08</th>\n      <td>0</td>\n      <td>0</td>\n      <td>0</td>\n      <td>0</td>\n      <td>0</td>\n      <td>0</td>\n      <td>0</td>\n      <td>0</td>\n      <td>0</td>\n      <td>0</td>\n      <td>...</td>\n      <td>0</td>\n      <td>0</td>\n      <td>0</td>\n      <td>0</td>\n      <td>0</td>\n      <td>0</td>\n      <td>0</td>\n      <td>0</td>\n      <td>0</td>\n      <td>0</td>\n    </tr>\n    <tr>\n      <th>2020-03-09</th>\n      <td>0</td>\n      <td>0</td>\n      <td>0</td>\n      <td>0</td>\n      <td>0</td>\n      <td>0</td>\n      <td>0</td>\n      <td>0</td>\n      <td>0</td>\n      <td>0</td>\n      <td>...</td>\n      <td>0</td>\n      <td>0</td>\n      <td>0</td>\n      <td>0</td>\n      <td>0</td>\n      <td>0</td>\n      <td>0</td>\n      <td>0</td>\n      <td>0</td>\n      <td>0</td>\n    </tr>\n  </tbody>\n</table>\n<p>5 rows × 991 columns</p>\n</div>"
     },
     "metadata": {},
     "execution_count": 9
    }
   ],
   "source": [
    "# Pivoting the table to add daily values for each date and city. This is needed to be able to visualize correctly the chart bar race in Tableu. We must fill the NaN values with 0. \n",
    "\n",
    "df_pivot_casos = pd.pivot_table(df_casos,index=['FECHA_CONTAGIO'], columns=['CIUDAD'], fill_value=0)\n",
    "df_pivot_casos.head()"
   ]
  },
  {
   "cell_type": "code",
   "execution_count": 10,
   "metadata": {},
   "outputs": [
    {
     "output_type": "execute_result",
     "data": {
      "text/plain": [
       "  FECHA_CONTAGIO            NaN     CIUDAD  CASOS_DIARIOS\n",
       "0     2020-03-02  CASOS_DIARIOS  Abejorral              0\n",
       "1     2020-03-06  CASOS_DIARIOS  Abejorral              0\n",
       "2     2020-03-07  CASOS_DIARIOS  Abejorral              0\n",
       "3     2020-03-08  CASOS_DIARIOS  Abejorral              0\n",
       "4     2020-03-09  CASOS_DIARIOS  Abejorral              0"
      ],
      "text/html": "<div>\n<style scoped>\n    .dataframe tbody tr th:only-of-type {\n        vertical-align: middle;\n    }\n\n    .dataframe tbody tr th {\n        vertical-align: top;\n    }\n\n    .dataframe thead th {\n        text-align: right;\n    }\n</style>\n<table border=\"1\" class=\"dataframe\">\n  <thead>\n    <tr style=\"text-align: right;\">\n      <th></th>\n      <th>FECHA_CONTAGIO</th>\n      <th>NaN</th>\n      <th>CIUDAD</th>\n      <th>CASOS_DIARIOS</th>\n    </tr>\n  </thead>\n  <tbody>\n    <tr>\n      <th>0</th>\n      <td>2020-03-02</td>\n      <td>CASOS_DIARIOS</td>\n      <td>Abejorral</td>\n      <td>0</td>\n    </tr>\n    <tr>\n      <th>1</th>\n      <td>2020-03-06</td>\n      <td>CASOS_DIARIOS</td>\n      <td>Abejorral</td>\n      <td>0</td>\n    </tr>\n    <tr>\n      <th>2</th>\n      <td>2020-03-07</td>\n      <td>CASOS_DIARIOS</td>\n      <td>Abejorral</td>\n      <td>0</td>\n    </tr>\n    <tr>\n      <th>3</th>\n      <td>2020-03-08</td>\n      <td>CASOS_DIARIOS</td>\n      <td>Abejorral</td>\n      <td>0</td>\n    </tr>\n    <tr>\n      <th>4</th>\n      <td>2020-03-09</td>\n      <td>CASOS_DIARIOS</td>\n      <td>Abejorral</td>\n      <td>0</td>\n    </tr>\n  </tbody>\n</table>\n</div>"
     },
     "metadata": {},
     "execution_count": 10
    }
   ],
   "source": [
    "# Now, we will unpivot the dataframe with the melt function.\n",
    "\n",
    "df_unpivot = pd.melt(df_pivot_casos, value_name='CASOS_DIARIOS', ignore_index=False).reset_index()\n",
    "df_unpivot.head()"
   ]
  },
  {
   "cell_type": "code",
   "execution_count": 11,
   "metadata": {},
   "outputs": [
    {
     "output_type": "execute_result",
     "data": {
      "text/plain": [
       "FECHA_CONTAGIO    datetime64[ns]\n",
       "CIUDAD                    object\n",
       "CASOS_DIARIOS              int64\n",
       "dtype: object"
      ]
     },
     "metadata": {},
     "execution_count": 11
    }
   ],
   "source": [
    "# The unpivot process has created a new colum with a NaN column name and string values that we do not need so, we are going to remove it\n",
    "\n",
    "df_unpivot = df_unpivot[df_unpivot.columns.dropna()]\n",
    "df_unpivot.dtypes"
   ]
  },
  {
   "cell_type": "code",
   "execution_count": 12,
   "metadata": {},
   "outputs": [
    {
     "output_type": "execute_result",
     "data": {
      "text/plain": [
       "       FECHA_CONTAGIO CIUDAD  CASOS_DIARIOS  CASOS_TOTALES\n",
       "219006     2020-10-07  Útica              0              1\n",
       "219007     2020-10-08  Útica              0              1\n",
       "219008     2020-10-09  Útica              0              1\n",
       "219009     2020-10-10  Útica              0              1\n",
       "219010     2020-10-11  Útica              0              1"
      ],
      "text/html": "<div>\n<style scoped>\n    .dataframe tbody tr th:only-of-type {\n        vertical-align: middle;\n    }\n\n    .dataframe tbody tr th {\n        vertical-align: top;\n    }\n\n    .dataframe thead th {\n        text-align: right;\n    }\n</style>\n<table border=\"1\" class=\"dataframe\">\n  <thead>\n    <tr style=\"text-align: right;\">\n      <th></th>\n      <th>FECHA_CONTAGIO</th>\n      <th>CIUDAD</th>\n      <th>CASOS_DIARIOS</th>\n      <th>CASOS_TOTALES</th>\n    </tr>\n  </thead>\n  <tbody>\n    <tr>\n      <th>219006</th>\n      <td>2020-10-07</td>\n      <td>Útica</td>\n      <td>0</td>\n      <td>1</td>\n    </tr>\n    <tr>\n      <th>219007</th>\n      <td>2020-10-08</td>\n      <td>Útica</td>\n      <td>0</td>\n      <td>1</td>\n    </tr>\n    <tr>\n      <th>219008</th>\n      <td>2020-10-09</td>\n      <td>Útica</td>\n      <td>0</td>\n      <td>1</td>\n    </tr>\n    <tr>\n      <th>219009</th>\n      <td>2020-10-10</td>\n      <td>Útica</td>\n      <td>0</td>\n      <td>1</td>\n    </tr>\n    <tr>\n      <th>219010</th>\n      <td>2020-10-11</td>\n      <td>Útica</td>\n      <td>0</td>\n      <td>1</td>\n    </tr>\n  </tbody>\n</table>\n</div>"
     },
     "metadata": {},
     "execution_count": 12
    }
   ],
   "source": [
    "# Again we will group the dataframe by city and aggregate a new column with the acummulated sum of cases. This is fundamental to create the bar chart race in Tableu\n",
    "\n",
    "df_unpivot['CASOS_TOTALES'] = df_unpivot.groupby(['CIUDAD']).CASOS_DIARIOS.agg('cumsum')\n",
    "df_unpivot.tail()"
   ]
  },
  {
   "cell_type": "code",
   "execution_count": 13,
   "metadata": {},
   "outputs": [
    {
     "output_type": "execute_result",
     "data": {
      "text/plain": [
       "(219011, 4)"
      ]
     },
     "metadata": {},
     "execution_count": 13
    }
   ],
   "source": [
    "# Checkin the number of rows and columns in our dataframe\n",
    "\n",
    "df_unpivot.shape"
   ]
  },
  {
   "cell_type": "code",
   "execution_count": 14,
   "metadata": {},
   "outputs": [
    {
     "output_type": "execute_result",
     "data": {
      "text/plain": [
       "False"
      ]
     },
     "metadata": {},
     "execution_count": 14
    }
   ],
   "source": [
    "# Looking if the dataframe has any null/nan values\n",
    "\n",
    "df_unpivot.isnull().values.any()"
   ]
  },
  {
   "cell_type": "code",
   "execution_count": 15,
   "metadata": {},
   "outputs": [
    {
     "output_type": "execute_result",
     "data": {
      "text/plain": [
       "FECHA_CONTAGIO    datetime64[ns]\n",
       "CIUDAD                    object\n",
       "CASOS_DIARIOS              int64\n",
       "CASOS_TOTALES              int64\n",
       "dtype: object"
      ]
     },
     "metadata": {},
     "execution_count": 15
    }
   ],
   "source": [
    "# Check our dataframe dtypes\n",
    "\n",
    "df_unpivot.dtypes"
   ]
  },
  {
   "source": [
    "## 4. Export the data\n",
    "<p>We will work the visualization with Tableu so, we need to export our pandas dataframe into a file that can be recognized by the Tableu software. We need to download the following tools to be able to export and connect with Tableau:</p>\n",
    "\n",
    "[Pandleau](https://pypi.org/project/pandleau/)\n",
    "\n",
    "[TableauSDK](https://help.tableau.com/current/api/sdk/en-us/help.htm)"
   ],
   "cell_type": "markdown",
   "metadata": {}
  },
  {
   "cell_type": "code",
   "execution_count": 16,
   "metadata": {
    "tags": []
   },
   "outputs": [
    {
     "output_type": "stream",
     "name": "stdout",
     "text": [
      "You are using the Tableau SDK, please save the output as .tde format\nYou are using the Extract API 2.0, please save the output as .hyper format\n"
     ]
    }
   ],
   "source": [
    "# We need to install the following library to be able to import our pandas dataframe into a .hyper file that will works in Tableau. \n",
    "\n",
    "from pandleau import *\n",
    "from tableausdk import *"
   ]
  },
  {
   "cell_type": "code",
   "execution_count": 17,
   "metadata": {
    "tags": []
   },
   "outputs": [
    {
     "output_type": "stream",
     "name": "stderr",
     "text": [
      "processing table: 3502it [00:00, 34766.97it/s]Table 'Extract' does not exist in extract df_colombia_covid19.hyper, creating.\n",
      "processing table: 219011it [00:06, 32208.34it/s]\n",
      "the file df_colombia_covid19.hyper as been created\n"
     ]
    }
   ],
   "source": [
    "# Converting our dataframe into a Tableau object\n",
    "\n",
    "df_colombia_covid19 = pandleau(df_unpivot)\n",
    "\n",
    "# Creating a .hyper extract\n",
    "# The .hyper is the current file extension supported in the last version of Tableau Personal, the .tde extension files are not currently supported by the Pandleau library\n",
    "\n",
    "df_colombia_covid19.to_tableau('df_colombia_covid19.hyper', add_index=False)\n",
    "print('the file df_colombia_covid19.hyper as been created')"
   ]
  }
 ]
}